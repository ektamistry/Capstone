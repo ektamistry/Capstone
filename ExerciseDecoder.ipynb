{
 "cells": [
  {
   "cell_type": "markdown",
   "id": "d602e75d",
   "metadata": {},
   "source": [
    "# 0. Import Dependencies"
   ]
  },
  {
   "cell_type": "code",
   "execution_count": 4,
   "id": "d760b388",
   "metadata": {},
   "outputs": [
    {
     "name": "stdout",
     "output_type": "stream",
     "text": [
      "Requirement already satisfied: mediapipe in c:\\users\\nihaal raichura\\anaconda3\\envs\\name\\lib\\site-packages (0.8.10)\n",
      "Requirement already satisfied: attrs>=19.1.0 in c:\\users\\nihaal raichura\\anaconda3\\envs\\name\\lib\\site-packages (from mediapipe) (21.4.0)\n",
      "Requirement already satisfied: matplotlib in c:\\users\\nihaal raichura\\anaconda3\\envs\\name\\lib\\site-packages (from mediapipe) (3.5.2)\n",
      "Requirement already satisfied: protobuf>=3.11.4 in c:\\users\\nihaal raichura\\anaconda3\\envs\\name\\lib\\site-packages (from mediapipe) (4.21.1)\n",
      "Requirement already satisfied: numpy in c:\\users\\nihaal raichura\\anaconda3\\envs\\name\\lib\\site-packages (from mediapipe) (1.23.0)\n",
      "Requirement already satisfied: absl-py in c:\\users\\nihaal raichura\\anaconda3\\envs\\name\\lib\\site-packages (from mediapipe) (0.15.0)\n",
      "Requirement already satisfied: opencv-contrib-python in c:\\users\\nihaal raichura\\anaconda3\\envs\\name\\lib\\site-packages (from mediapipe) (4.6.0.66)\n",
      "Requirement already satisfied: six in c:\\users\\nihaal raichura\\anaconda3\\envs\\name\\lib\\site-packages (from absl-py->mediapipe) (1.15.0)\n",
      "Requirement already satisfied: cycler>=0.10 in c:\\users\\nihaal raichura\\anaconda3\\envs\\name\\lib\\site-packages (from matplotlib->mediapipe) (0.11.0)\n",
      "Requirement already satisfied: packaging>=20.0 in c:\\users\\nihaal raichura\\anaconda3\\envs\\name\\lib\\site-packages (from matplotlib->mediapipe) (21.3)\n",
      "Requirement already satisfied: kiwisolver>=1.0.1 in c:\\users\\nihaal raichura\\anaconda3\\envs\\name\\lib\\site-packages (from matplotlib->mediapipe) (1.4.3)\n",
      "Requirement already satisfied: python-dateutil>=2.7 in c:\\users\\nihaal raichura\\anaconda3\\envs\\name\\lib\\site-packages (from matplotlib->mediapipe) (2.8.2)\n",
      "Requirement already satisfied: pyparsing>=2.2.1 in c:\\users\\nihaal raichura\\anaconda3\\envs\\name\\lib\\site-packages (from matplotlib->mediapipe) (3.0.9)\n",
      "Requirement already satisfied: fonttools>=4.22.0 in c:\\users\\nihaal raichura\\anaconda3\\envs\\name\\lib\\site-packages (from matplotlib->mediapipe) (4.33.3)\n",
      "Requirement already satisfied: pillow>=6.2.0 in c:\\users\\nihaal raichura\\anaconda3\\envs\\name\\lib\\site-packages (from matplotlib->mediapipe) (9.1.1)\n",
      "Note: you may need to restart the kernel to use updated packages.\n"
     ]
    }
   ],
   "source": [
    "pip install mediapipe"
   ]
  },
  {
   "cell_type": "code",
   "execution_count": 10,
   "id": "2eee7112",
   "metadata": {},
   "outputs": [
    {
     "ename": "SyntaxError",
     "evalue": "invalid syntax (4223291981.py, line 1)",
     "output_type": "error",
     "traceback": [
      "\u001b[1;36m  Input \u001b[1;32mIn [10]\u001b[1;36m\u001b[0m\n\u001b[1;33m    export PROTOCOL_BUFFERS_PYTHON_IMPLEMENTATION=python\u001b[0m\n\u001b[1;37m           ^\u001b[0m\n\u001b[1;31mSyntaxError\u001b[0m\u001b[1;31m:\u001b[0m invalid syntax\n"
     ]
    }
   ],
   "source": [
    "export PROTOCOL_BUFFERS_PYTHON_IMPLEMENTATION=python\n"
   ]
  },
  {
   "cell_type": "code",
   "execution_count": 1,
   "id": "2d97e5ec",
   "metadata": {},
   "outputs": [],
   "source": [
    "import cv2\n",
    "import numpy as np\n",
    "import os\n",
    "from matplotlib import pyplot as plt\n",
    "import time\n",
    "import mediapipe as mp\n",
    "import tensorflow as tf\n",
    "import math\n",
    "\n",
    "from sklearn.model_selection import train_test_split\n",
    "from sklearn.metrics import multilabel_confusion_matrix, accuracy_score, classification_report\n",
    "from tensorflow.keras.utils import to_categorical\n",
    "\n",
    "import tensorflow as tf\n",
    "from tensorflow.keras import backend as K\n",
    "from tensorflow.keras.callbacks import TensorBoard, EarlyStopping, ReduceLROnPlateau, ModelCheckpoint\n",
    "\n",
    "from tensorflow.keras.models import Sequential, Model\n",
    "\n",
    "from tensorflow.keras.layers import (LSTM, Dense, Concatenate, Attention, Dropout, Softmax,\n",
    "                                     Input, Flatten, Activation, Bidirectional, Permute, multiply, \n",
    "                                     ConvLSTM2D, MaxPooling3D, TimeDistributed, Conv2D, MaxPooling2D)\n",
    "\n",
    "from scipy import stats\n",
    "\n",
    "# disable some of the tf/keras training warnings \n",
    "os.environ['TF_CPP_MIN_LOG_LEVEL'] = \"3\"\n",
    "tf.get_logger().setLevel(\"ERROR\")\n",
    "tf.autograph.set_verbosity(1)\n",
    "\n",
    "# suppress untraced functions warning\n",
    "import absl.logging\n",
    "absl.logging.set_verbosity(absl.logging.ERROR)"
   ]
  },
  {
   "cell_type": "code",
   "execution_count": 11,
   "id": "62f7eed4",
   "metadata": {},
   "outputs": [
    {
     "name": "stdout",
     "output_type": "stream",
     "text": [
      "Requirement already satisfied: protobuf==3.20.0 in c:\\users\\nihaal raichura\\anaconda3\\envs\\name\\lib\\site-packages (3.20.0)\n",
      "Note: you may need to restart the kernel to use updated packages.\n"
     ]
    },
    {
     "name": "stderr",
     "output_type": "stream",
     "text": [
      "WARNING: Ignoring invalid distribution -rotobuf (c:\\users\\nihaal raichura\\anaconda3\\envs\\name\\lib\\site-packages)\n",
      "WARNING: Ignoring invalid distribution -rotobuf (c:\\users\\nihaal raichura\\anaconda3\\envs\\name\\lib\\site-packages)\n",
      "WARNING: Ignoring invalid distribution -rotobuf (c:\\users\\nihaal raichura\\anaconda3\\envs\\name\\lib\\site-packages)\n",
      "WARNING: Ignoring invalid distribution -rotobuf (c:\\users\\nihaal raichura\\anaconda3\\envs\\name\\lib\\site-packages)\n",
      "WARNING: Ignoring invalid distribution -rotobuf (c:\\users\\nihaal raichura\\anaconda3\\envs\\name\\lib\\site-packages)\n",
      "WARNING: Ignoring invalid distribution -rotobuf (c:\\users\\nihaal raichura\\anaconda3\\envs\\name\\lib\\site-packages)\n"
     ]
    }
   ],
   "source": [
    "pip install protobuf==3.20.0 --user\n"
   ]
  },
  {
   "cell_type": "code",
   "execution_count": 102,
   "id": "c3c902bd",
   "metadata": {},
   "outputs": [
    {
     "name": "stdout",
     "output_type": "stream",
     "text": [
      "Requirement already satisfied: numpy==1.19.5 in c:\\users\\nihaal raichura\\anaconda3\\envs\\name\\lib\\site-packages (1.19.5)\n",
      "Note: you may need to restart the kernel to use updated packages.\n"
     ]
    },
    {
     "name": "stderr",
     "output_type": "stream",
     "text": [
      "WARNING: Ignoring invalid distribution -rotobuf (c:\\users\\nihaal raichura\\anaconda3\\envs\\name\\lib\\site-packages)\n",
      "WARNING: Ignoring invalid distribution -rotobuf (c:\\users\\nihaal raichura\\anaconda3\\envs\\name\\lib\\site-packages)\n",
      "WARNING: Ignoring invalid distribution -rotobuf (c:\\users\\nihaal raichura\\anaconda3\\envs\\name\\lib\\site-packages)\n",
      "WARNING: Ignoring invalid distribution -rotobuf (c:\\users\\nihaal raichura\\anaconda3\\envs\\name\\lib\\site-packages)\n",
      "WARNING: Ignoring invalid distribution -rotobuf (c:\\users\\nihaal raichura\\anaconda3\\envs\\name\\lib\\site-packages)\n",
      "WARNING: Ignoring invalid distribution -rotobuf (c:\\users\\nihaal raichura\\anaconda3\\envs\\name\\lib\\site-packages)\n"
     ]
    }
   ],
   "source": [
    "pip install numpy==1.19.5 --user\n"
   ]
  },
  {
   "cell_type": "markdown",
   "id": "55f470e2",
   "metadata": {},
   "source": [
    "# 1. Keypoints using MP Pose"
   ]
  },
  {
   "cell_type": "code",
   "execution_count": 2,
   "id": "20cde117",
   "metadata": {},
   "outputs": [],
   "source": [
    "# Pre-trained pose estimation model from Google Mediapipe\n",
    "mp_pose = mp.solutions.pose\n",
    "\n",
    "# Supported Mediapipe visualization tools\n",
    "mp_drawing = mp.solutions.drawing_utils"
   ]
  },
  {
   "cell_type": "code",
   "execution_count": 7,
   "id": "716e9f8e",
   "metadata": {},
   "outputs": [],
   "source": [
    "def mediapipe_detection(image, model):\n",
    "    \"\"\"\n",
    "    This function detects human pose estimation keypoints from webcam footage\n",
    "    \n",
    "    \"\"\"\n",
    "    image = cv2.cvtColor(image, cv2.COLOR_BGR2RGB) # COLOR CONVERSION BGR 2 RGB\n",
    "    image.flags.writeable = False                  # Image is no longer writeable\n",
    "    results = model.process(image)                 # Make prediction\n",
    "    image.flags.writeable = True                   # Image is now writeable \n",
    "    image = cv2.cvtColor(image, cv2.COLOR_RGB2BGR) # COLOR COVERSION RGB 2 BGR\n",
    "    return image, results"
   ]
  },
  {
   "cell_type": "code",
   "execution_count": 8,
   "id": "9bd7ba58",
   "metadata": {},
   "outputs": [],
   "source": [
    "def draw_landmarks(image, results):\n",
    "    \"\"\"\n",
    "    This function draws keypoints and landmarks detected by the human pose estimation model\n",
    "    \n",
    "    \"\"\"\n",
    "    mp_drawing.draw_landmarks(image, results.pose_landmarks, mp_pose.POSE_CONNECTIONS,\n",
    "                                mp_drawing.DrawingSpec(color=(245,117,66), thickness=2, circle_radius=2), \n",
    "                                mp_drawing.DrawingSpec(color=(245,66,230), thickness=2, circle_radius=2) \n",
    "                                 )"
   ]
  },
  {
   "cell_type": "code",
   "execution_count": 9,
   "id": "c0ebe952",
   "metadata": {},
   "outputs": [],
   "source": [
    "cap = cv2.VideoCapture(0) # camera object\n",
    "HEIGHT = int(cap.get(cv2.CAP_PROP_FRAME_HEIGHT)) # webcam video frame height\n",
    "WIDTH = int(cap.get(cv2.CAP_PROP_FRAME_WIDTH)) # webcam video frame width\n",
    "FPS = int(cap.get(cv2.CAP_PROP_FPS)) # webcam video fram rate \n",
    "\n",
    "# Set and test mediapipe model using webcam\n",
    "with mp_pose.Pose(min_detection_confidence=0.5, min_tracking_confidence=0.5) as pose:\n",
    "    while cap.isOpened():\n",
    "\n",
    "        # Read feed\n",
    "        ret, frame = cap.read()\n",
    "      \n",
    "        # Make detection\n",
    "        image, results = mediapipe_detection(frame, pose)\n",
    "        \n",
    "        # Extract landmarks\n",
    "        try:\n",
    "            landmarks = results.pose_landmarks.landmark\n",
    "        except:\n",
    "            pass\n",
    "        \n",
    "        # Render detections\n",
    "        draw_landmarks(image, results)               \n",
    "        \n",
    "        # Display frame on screen\n",
    "        cv2.imshow('OpenCV Feed', image)\n",
    "        \n",
    "        # Exit / break out logic\n",
    "        if cv2.waitKey(10) & 0xFF == ord('q'):\n",
    "            break\n",
    "\n",
    "    cap.release()\n",
    "    cv2.destroyAllWindows()"
   ]
  },
  {
   "cell_type": "markdown",
   "id": "f9fb32f3",
   "metadata": {},
   "source": [
    "# 2. Extract Keypoints"
   ]
  },
  {
   "cell_type": "code",
   "execution_count": 10,
   "id": "a81823f6",
   "metadata": {},
   "outputs": [],
   "source": [
    "# Recollect and organize keypoints from the test\n",
    "pose = []\n",
    "for res in results.pose_landmarks.landmark:\n",
    "    test = np.array([res.x, res.y, res.z, res.visibility])\n",
    "    pose.append(test)"
   ]
  },
  {
   "cell_type": "code",
   "execution_count": 11,
   "id": "cd92eee3",
   "metadata": {},
   "outputs": [],
   "source": [
    "# 33 landmarks with 4 values (x, y, z, visibility)\n",
    "num_landmarks = len(landmarks)\n",
    "num_values = len(test)\n",
    "num_input_values = num_landmarks*num_values"
   ]
  },
  {
   "cell_type": "code",
   "execution_count": 12,
   "id": "9dad5b8c",
   "metadata": {},
   "outputs": [],
   "source": [
    "# This is an example of what we would use as an input into our AI models\n",
    "pose = np.array([[res.x, res.y, res.z, res.visibility] for res in results.pose_landmarks.landmark]).flatten() if results.pose_landmarks else np.zeros(33*4)"
   ]
  },
  {
   "cell_type": "code",
   "execution_count": 13,
   "id": "6f4d1079",
   "metadata": {},
   "outputs": [],
   "source": [
    "def extract_keypoints(results):\n",
    "    \"\"\"\n",
    "    Processes and organizes the keypoints detected from the pose estimation model \n",
    "    to be used as inputs for the exercise decoder models\n",
    "    \n",
    "    \"\"\"\n",
    "    pose = np.array([[res.x, res.y, res.z, res.visibility] for res in results.pose_landmarks.landmark]).flatten() if results.pose_landmarks else np.zeros(33*4)\n",
    "    return pose"
   ]
  },
  {
   "cell_type": "markdown",
   "id": "03b907e8",
   "metadata": {},
   "source": [
    "# 3. Setup Folders for Collection"
   ]
  },
  {
   "cell_type": "code",
   "execution_count": 18,
   "id": "ddcaecfd",
   "metadata": {},
   "outputs": [
    {
     "name": "stdout",
     "output_type": "stream",
     "text": [
      "C:\\Users\\Nihaal Raichura\\Documents\\Exercise_Recognition_AI\\data\n"
     ]
    }
   ],
   "source": [
    "# Path for exported data, numpy arrays\n",
    "DATA_PATH = os.path.join(os. getcwd(),'data') \n",
    "print(DATA_PATH)\n",
    "\n",
    "# make directory if it does not exist yet\n",
    "if not os.path.exists(DATA_PATH):\n",
    "    os.makedirs(DATA_PATH)\n",
    "\n",
    "# Actions/exercises that we try to detect\n",
    "actions = np.array(['curl', 'press', 'squat'])\n",
    "num_classes = len(actions)\n",
    "\n",
    "# How many videos worth of data\n",
    "no_sequences = 50\n",
    "\n",
    "# Videos are going to be this many frames in length\n",
    "sequence_length = FPS*1\n",
    "\n",
    "# Folder start\n",
    "# Change this to collect more data and not lose previously collected data\n",
    "start_folder = 101"
   ]
  },
  {
   "cell_type": "code",
   "execution_count": 36,
   "id": "fed6b275",
   "metadata": {},
   "outputs": [],
   "source": [
    "# Build folder paths\n",
    "for action in actions:     \n",
    "    for sequence in range(start_folder,no_sequences+start_folder):\n",
    "        try: \n",
    "            os.makedirs(os.path.join(DATA_PATH, action, str(sequence)))  \n",
    "        except:\n",
    "            pass"
   ]
  },
  {
   "cell_type": "markdown",
   "id": "7622b573",
   "metadata": {},
   "source": [
    "# 4. Collect Keypoint Values for Training and Testing"
   ]
  },
  {
   "cell_type": "code",
   "execution_count": 14,
   "id": "d224561f",
   "metadata": {},
   "outputs": [],
   "source": [
    "# Colors associated with each exercise (e.g., curls are denoted by blue, squats are denoted by orange, etc.)\n",
    "colors = [(245,117,16), (117,245,16), (16,117,245)]"
   ]
  },
  {
   "cell_type": "code",
   "execution_count": 15,
   "id": "41b81490",
   "metadata": {},
   "outputs": [
    {
     "ename": "NameError",
     "evalue": "name 'actions' is not defined",
     "output_type": "error",
     "traceback": [
      "\u001b[1;31m---------------------------------------------------------------------------\u001b[0m",
      "\u001b[1;31mNameError\u001b[0m                                 Traceback (most recent call last)",
      "Input \u001b[1;32mIn [15]\u001b[0m, in \u001b[0;36m<cell line: 5>\u001b[1;34m()\u001b[0m\n\u001b[0;32m      4\u001b[0m \u001b[38;5;66;03m# Set mediapipe model \u001b[39;00m\n\u001b[0;32m      5\u001b[0m \u001b[38;5;28;01mwith\u001b[39;00m mp_pose\u001b[38;5;241m.\u001b[39mPose(min_detection_confidence\u001b[38;5;241m=\u001b[39m\u001b[38;5;241m0.5\u001b[39m, min_tracking_confidence\u001b[38;5;241m=\u001b[39m\u001b[38;5;241m0.5\u001b[39m) \u001b[38;5;28;01mas\u001b[39;00m pose:\n\u001b[0;32m      6\u001b[0m     \u001b[38;5;66;03m# Loop through actions\u001b[39;00m\n\u001b[1;32m----> 7\u001b[0m     \u001b[38;5;28;01mfor\u001b[39;00m idx, action \u001b[38;5;129;01min\u001b[39;00m \u001b[38;5;28menumerate\u001b[39m(\u001b[43mactions\u001b[49m):\n\u001b[0;32m      8\u001b[0m         \u001b[38;5;66;03m# Loop through sequences (i.e., videos)\u001b[39;00m\n\u001b[0;32m      9\u001b[0m         \u001b[38;5;28;01mfor\u001b[39;00m sequence \u001b[38;5;129;01min\u001b[39;00m \u001b[38;5;28mrange\u001b[39m(start_folder, start_folder\u001b[38;5;241m+\u001b[39mno_sequences):\n\u001b[0;32m     10\u001b[0m             \u001b[38;5;66;03m# Loop through video length (i.e, sequence length)\u001b[39;00m\n\u001b[0;32m     11\u001b[0m             \u001b[38;5;28;01mfor\u001b[39;00m frame_num \u001b[38;5;129;01min\u001b[39;00m \u001b[38;5;28mrange\u001b[39m(sequence_length):\n\u001b[0;32m     12\u001b[0m                 \u001b[38;5;66;03m# Read feed\u001b[39;00m\n",
      "\u001b[1;31mNameError\u001b[0m: name 'actions' is not defined"
     ]
    }
   ],
   "source": [
    "# Collect Training Data\n",
    "\n",
    "cap = cv2.VideoCapture(0)\n",
    "# Set mediapipe model \n",
    "with mp_pose.Pose(min_detection_confidence=0.5, min_tracking_confidence=0.5) as pose:\n",
    "    # Loop through actions\n",
    "    for idx, action in enumerate(actions):\n",
    "        # Loop through sequences (i.e., videos)\n",
    "        for sequence in range(start_folder, start_folder+no_sequences):\n",
    "            # Loop through video length (i.e, sequence length)\n",
    "            for frame_num in range(sequence_length):\n",
    "                # Read feed\n",
    "                ret, frame = cap.read()\n",
    "                \n",
    "                # Make detectionq\n",
    "                image, results = mediapipe_detection(frame, pose)\n",
    "\n",
    "                # Extract landmarks\n",
    "                try:\n",
    "                    landmarks = results.pose_landmarks.landmark\n",
    "                except:\n",
    "                    pass\n",
    "                \n",
    "                # Render detections\n",
    "                draw_landmarks(image, results) \n",
    "\n",
    "                # Apply visualization logic\n",
    "                if frame_num == 0: # If first frame in sequence, print that you're starting a new data collection and wait 500 ms\n",
    "                    cv2.putText(image, 'STARTING COLLECTION', (120,200), \n",
    "                            cv2.FONT_HERSHEY_SIMPLEX, 1, (0,255, 0), 4, cv2.LINE_AA)\n",
    "                    \n",
    "                    cv2.putText(image, 'Collecting {} Video # {}'.format(action, sequence), (15,30), \n",
    "                            cv2.FONT_HERSHEY_SIMPLEX, 1, (255, 255, 255), 8, cv2.LINE_AA)\n",
    "                    cv2.putText(image, 'Collecting {} Video # {}'.format(action, sequence), (15,30), \n",
    "                            cv2.FONT_HERSHEY_SIMPLEX, 1, colors[idx], 4, cv2.LINE_AA)\n",
    "                    \n",
    "                    # Show to screen\n",
    "                    cv2.imshow('OpenCV Feed', image)\n",
    "                    cv2.waitKey(500)\n",
    "                else: \n",
    "                    cv2.putText(image, 'Collecting {} Video # {}'.format(action, sequence), (15,30), \n",
    "                            cv2.FONT_HERSHEY_SIMPLEX, 1, (255, 255, 255), 8, cv2.LINE_AA)\n",
    "                    cv2.putText(image, 'Collecting {} Video # {}'.format(action, sequence), (15,30), \n",
    "                            cv2.FONT_HERSHEY_SIMPLEX, 1, colors[idx], 4, cv2.LINE_AA)\n",
    "                    \n",
    "                    # Show to screen\n",
    "                    cv2.imshow('OpenCV Feed', image)\n",
    "\n",
    "                # Export keypoints (sequence + pose landmarks)\n",
    "                keypoints = extract_keypoints(results)\n",
    "                npy_path = os.path.join(DATA_PATH, action, str(sequence), str(frame_num))\n",
    "                np.save(npy_path, keypoints)\n",
    "\n",
    "                # Break gracefully\n",
    "                if cv2.waitKey(10) & 0xFF == ord('q'):\n",
    "                    break\n",
    "                    \n",
    "    cap.release()\n",
    "    cv2.destroyAllWindows()"
   ]
  },
  {
   "cell_type": "code",
   "execution_count": 39,
   "id": "4b016129",
   "metadata": {},
   "outputs": [],
   "source": [
    "cap.release()\n",
    "cv2.destroyAllWindows()"
   ]
  },
  {
   "cell_type": "markdown",
   "id": "d01ec993",
   "metadata": {},
   "source": [
    "# 5. Preprocess Data and Create Labels/Features"
   ]
  },
  {
   "cell_type": "code",
   "execution_count": 19,
   "id": "cad528c8",
   "metadata": {},
   "outputs": [],
   "source": [
    "label_map = {label:num for num, label in enumerate(actions)}"
   ]
  },
  {
   "cell_type": "code",
   "execution_count": 20,
   "id": "a0add3fb",
   "metadata": {},
   "outputs": [],
   "source": [
    "# Load and organize recorded training data\n",
    "sequences, labels = [], []\n",
    "for action in actions:\n",
    "    for sequence in np.array(os.listdir(os.path.join(DATA_PATH, action))).astype(int):\n",
    "        window = []\n",
    "        for frame_num in range(sequence_length):         \n",
    "            # LSTM input data\n",
    "            res = np.load(os.path.join(DATA_PATH, action, str(sequence), \"{}.npy\".format(frame_num)))\n",
    "            window.append(res)  \n",
    "            \n",
    "        sequences.append(window)\n",
    "        labels.append(label_map[action])"
   ]
  },
  {
   "cell_type": "code",
   "execution_count": 21,
   "id": "ab459ce4",
   "metadata": {},
   "outputs": [
    {
     "name": "stdout",
     "output_type": "stream",
     "text": [
      "(16, 30, 132) (16, 3)\n"
     ]
    }
   ],
   "source": [
    "# Make sure first dimensions of arrays match\n",
    "X = np.array(sequences)\n",
    "y = to_categorical(labels).astype(int)\n",
    "print(X.shape, y.shape)"
   ]
  },
  {
   "cell_type": "code",
   "execution_count": 22,
   "id": "5ac49993",
   "metadata": {},
   "outputs": [
    {
     "name": "stdout",
     "output_type": "stream",
     "text": [
      "(14, 30, 132) (14, 3)\n"
     ]
    }
   ],
   "source": [
    "# Split into training, validation, and testing datasets\n",
    "X_train, X_test, y_train, y_test = train_test_split(X, y, test_size=0.10, random_state=1)\n",
    "print(X_train.shape, y_train.shape)\n",
    "X_train, X_val, y_train, y_val = train_test_split(X_train, y_train, test_size=15/90, random_state=2)"
   ]
  },
  {
   "cell_type": "markdown",
   "id": "e53ae03d",
   "metadata": {},
   "source": [
    "# 6. Build and Train Neural Networks"
   ]
  },
  {
   "cell_type": "code",
   "execution_count": 23,
   "id": "912f3153",
   "metadata": {},
   "outputs": [],
   "source": [
    "# Callbacks to be used during neural network training \n",
    "es_callback = EarlyStopping(monitor='val_loss', min_delta=5e-4, patience=10, verbose=0, mode='min')\n",
    "lr_callback = ReduceLROnPlateau(monitor='val_loss', factor=0.2, patience=5, min_lr=0.00001, verbose=0, mode='min')\n",
    "chkpt_callback = ModelCheckpoint(filepath=DATA_PATH, monitor='val_loss', verbose=0, save_best_only=True, \n",
    "                                 save_weights_only=False, mode='min', save_freq=1)\n",
    "\n",
    "# Optimizer\n",
    "opt = tf.keras.optimizers.Adam(learning_rate=0.01)\n",
    "\n",
    "# some hyperparamters\n",
    "batch_size = 32\n",
    "max_epochs = 500"
   ]
  },
  {
   "cell_type": "markdown",
   "id": "c1ca0cad",
   "metadata": {},
   "source": [
    "## 6a. LSTM"
   ]
  },
  {
   "cell_type": "code",
   "execution_count": 24,
   "id": "730f987b",
   "metadata": {},
   "outputs": [],
   "source": [
    "# Set up Tensorboard logging and callbacks\n",
    "NAME = f\"ExerciseRecognition-LSTM-{int(time.time())}\"\n",
    "log_dir = os.path.join(os.getcwd(), 'logs', NAME,'')\n",
    "tb_callback = TensorBoard(log_dir=log_dir)\n",
    "\n",
    "callbacks = [tb_callback, es_callback, lr_callback, chkpt_callback]"
   ]
  },
  {
   "cell_type": "code",
   "execution_count": 25,
   "id": "ae7595c1",
   "metadata": {},
   "outputs": [
    {
     "name": "stdout",
     "output_type": "stream",
     "text": [
      "Model: \"sequential\"\n",
      "_________________________________________________________________\n",
      "Layer (type)                 Output Shape              Param #   \n",
      "=================================================================\n",
      "lstm (LSTM)                  (None, 30, 128)           133632    \n",
      "_________________________________________________________________\n",
      "lstm_1 (LSTM)                (None, 30, 256)           394240    \n",
      "_________________________________________________________________\n",
      "lstm_2 (LSTM)                (None, 128)               197120    \n",
      "_________________________________________________________________\n",
      "dense (Dense)                (None, 128)               16512     \n",
      "_________________________________________________________________\n",
      "dense_1 (Dense)              (None, 64)                8256      \n",
      "_________________________________________________________________\n",
      "dense_2 (Dense)              (None, 3)                 195       \n",
      "=================================================================\n",
      "Total params: 749,955\n",
      "Trainable params: 749,955\n",
      "Non-trainable params: 0\n",
      "_________________________________________________________________\n",
      "None\n"
     ]
    }
   ],
   "source": [
    "lstm = Sequential()\n",
    "lstm.add(LSTM(128, return_sequences=True, activation='relu', input_shape=(sequence_length, num_input_values)))\n",
    "lstm.add(LSTM(256, return_sequences=True, activation='relu'))\n",
    "lstm.add(LSTM(128, return_sequences=False, activation='relu'))\n",
    "lstm.add(Dense(128, activation='relu'))\n",
    "lstm.add(Dense(64, activation='relu'))\n",
    "lstm.add(Dense(actions.shape[0], activation='softmax'))\n",
    "print(lstm.summary())"
   ]
  },
  {
   "cell_type": "code",
   "execution_count": 26,
   "id": "8a10e698",
   "metadata": {},
   "outputs": [
    {
     "name": "stdout",
     "output_type": "stream",
     "text": [
      "Epoch 1/500\n",
      "1/1 [==============================] - 1s 548ms/step - loss: 1.0823 - categorical_accuracy: 0.4545 - val_loss: 5757844.5000 - val_categorical_accuracy: 0.0000e+00\n",
      "Epoch 2/500\n",
      "1/1 [==============================] - 0s 37ms/step - loss: 4458558.0000 - categorical_accuracy: 0.4545 - val_loss: 84367.9766 - val_categorical_accuracy: 0.6667\n",
      "Epoch 3/500\n",
      "1/1 [==============================] - 0s 36ms/step - loss: 124279.5234 - categorical_accuracy: 0.2727 - val_loss: 2495.0146 - val_categorical_accuracy: 0.0000e+00\n",
      "Epoch 4/500\n",
      "1/1 [==============================] - 0s 39ms/step - loss: 1289.0067 - categorical_accuracy: 0.4545 - val_loss: 388.8602 - val_categorical_accuracy: 0.3333\n",
      "Epoch 5/500\n",
      "1/1 [==============================] - 0s 39ms/step - loss: 280.4444 - categorical_accuracy: 0.3636 - val_loss: 274.0854 - val_categorical_accuracy: 0.6667\n",
      "Epoch 6/500\n",
      "1/1 [==============================] - 0s 39ms/step - loss: 1212.9634 - categorical_accuracy: 0.2727 - val_loss: 18993.0449 - val_categorical_accuracy: 0.3333\n",
      "Epoch 7/500\n",
      "1/1 [==============================] - 0s 35ms/step - loss: 16397.3828 - categorical_accuracy: 0.2727 - val_loss: 597.9995 - val_categorical_accuracy: 0.3333\n",
      "Epoch 8/500\n",
      "1/1 [==============================] - 0s 41ms/step - loss: 914.3809 - categorical_accuracy: 0.2727 - val_loss: 137.2663 - val_categorical_accuracy: 0.6667\n",
      "Epoch 9/500\n",
      "1/1 [==============================] - 0s 40ms/step - loss: 488.9009 - categorical_accuracy: 0.2727 - val_loss: 6208.2876 - val_categorical_accuracy: 0.3333\n",
      "Epoch 10/500\n",
      "1/1 [==============================] - 0s 38ms/step - loss: 4820.4219 - categorical_accuracy: 0.1818 - val_loss: 7119.3867 - val_categorical_accuracy: 0.0000e+00\n",
      "Epoch 11/500\n",
      "1/1 [==============================] - 0s 34ms/step - loss: 3765.9529 - categorical_accuracy: 0.4545 - val_loss: 791.0757 - val_categorical_accuracy: 0.6667\n",
      "Epoch 12/500\n",
      "1/1 [==============================] - 0s 40ms/step - loss: 1133.2642 - categorical_accuracy: 0.2727 - val_loss: 2858.4424 - val_categorical_accuracy: 0.0000e+00\n",
      "Epoch 13/500\n",
      "1/1 [==============================] - 0s 58ms/step - loss: 1362.5743 - categorical_accuracy: 0.4545 - val_loss: 3218.5159 - val_categorical_accuracy: 0.3333\n",
      "Epoch 14/500\n",
      "1/1 [==============================] - 0s 34ms/step - loss: 2169.4441 - categorical_accuracy: 0.2727 - val_loss: 3060.0247 - val_categorical_accuracy: 0.3333\n",
      "Epoch 15/500\n",
      "1/1 [==============================] - 0s 37ms/step - loss: 1983.7440 - categorical_accuracy: 0.2727 - val_loss: 2503.9509 - val_categorical_accuracy: 0.3333\n",
      "Epoch 16/500\n",
      "1/1 [==============================] - 0s 35ms/step - loss: 1461.5663 - categorical_accuracy: 0.2727 - val_loss: 1741.1991 - val_categorical_accuracy: 0.3333\n",
      "Epoch 17/500\n",
      "1/1 [==============================] - 0s 40ms/step - loss: 761.7340 - categorical_accuracy: 0.2727 - val_loss: 1702.3986 - val_categorical_accuracy: 0.0000e+00\n",
      "Epoch 18/500\n",
      "1/1 [==============================] - 0s 37ms/step - loss: 856.3443 - categorical_accuracy: 0.4545 - val_loss: 1080.1097 - val_categorical_accuracy: 0.0000e+00\n"
     ]
    },
    {
     "data": {
      "text/plain": [
       "<tensorflow.python.keras.callbacks.History at 0x22c171410a0>"
      ]
     },
     "execution_count": 26,
     "metadata": {},
     "output_type": "execute_result"
    }
   ],
   "source": [
    "lstm.compile(optimizer=opt, loss='categorical_crossentropy', metrics=['categorical_accuracy'])\n",
    "lstm.fit(X_train, y_train, batch_size=batch_size, epochs=max_epochs, validation_data=(X_val, y_val), callbacks=callbacks)"
   ]
  },
  {
   "cell_type": "markdown",
   "id": "8f58c4d8",
   "metadata": {},
   "source": [
    "## 6b. LSTM + Attention"
   ]
  },
  {
   "cell_type": "code",
   "execution_count": 27,
   "id": "c6e12666",
   "metadata": {},
   "outputs": [],
   "source": [
    "# Set up Tensorboard logging and callbacks\n",
    "NAME = f\"ExerciseRecognition-AttnLSTM-{int(time.time())}\"\n",
    "log_dir = os.path.join(os.getcwd(), 'logs', NAME,'')\n",
    "tb_callback = TensorBoard(log_dir=log_dir)\n",
    "\n",
    "callbacks = [tb_callback, es_callback, lr_callback, chkpt_callback]"
   ]
  },
  {
   "cell_type": "code",
   "execution_count": 28,
   "id": "07591dac",
   "metadata": {},
   "outputs": [],
   "source": [
    "def attention_block(inputs, time_steps):\n",
    "    \"\"\"\n",
    "    Attention layer for deep neural network\n",
    "    \n",
    "    \"\"\"\n",
    "    # Attention weights\n",
    "    a = Permute((2, 1))(inputs)\n",
    "    a = Dense(time_steps, activation='softmax')(a)\n",
    "    \n",
    "    # Attention vector\n",
    "    a_probs = Permute((2, 1), name='attention_vec')(a)\n",
    "    \n",
    "    # Luong's multiplicative score\n",
    "    output_attention_mul = multiply([inputs, a_probs], name='attention_mul') \n",
    "    \n",
    "    return output_attention_mul"
   ]
  },
  {
   "cell_type": "code",
   "execution_count": 29,
   "id": "c5c2e2e0",
   "metadata": {},
   "outputs": [
    {
     "name": "stdout",
     "output_type": "stream",
     "text": [
      "Model: \"functional_1\"\n",
      "__________________________________________________________________________________________________\n",
      "Layer (type)                    Output Shape         Param #     Connected to                     \n",
      "==================================================================================================\n",
      "input_1 (InputLayer)            [(None, 30, 132)]    0                                            \n",
      "__________________________________________________________________________________________________\n",
      "bidirectional (Bidirectional)   (None, 30, 512)      796672      input_1[0][0]                    \n",
      "__________________________________________________________________________________________________\n",
      "permute (Permute)               (None, 512, 30)      0           bidirectional[0][0]              \n",
      "__________________________________________________________________________________________________\n",
      "dense_3 (Dense)                 (None, 512, 30)      930         permute[0][0]                    \n",
      "__________________________________________________________________________________________________\n",
      "attention_vec (Permute)         (None, 30, 512)      0           dense_3[0][0]                    \n",
      "__________________________________________________________________________________________________\n",
      "attention_mul (Multiply)        (None, 30, 512)      0           bidirectional[0][0]              \n",
      "                                                                 attention_vec[0][0]              \n",
      "__________________________________________________________________________________________________\n",
      "flatten (Flatten)               (None, 15360)        0           attention_mul[0][0]              \n",
      "__________________________________________________________________________________________________\n",
      "dense_4 (Dense)                 (None, 512)          7864832     flatten[0][0]                    \n",
      "__________________________________________________________________________________________________\n",
      "dropout (Dropout)               (None, 512)          0           dense_4[0][0]                    \n",
      "__________________________________________________________________________________________________\n",
      "dense_5 (Dense)                 (None, 3)            1539        dropout[0][0]                    \n",
      "==================================================================================================\n",
      "Total params: 8,663,973\n",
      "Trainable params: 8,663,973\n",
      "Non-trainable params: 0\n",
      "__________________________________________________________________________________________________\n",
      "None\n"
     ]
    }
   ],
   "source": [
    "HIDDEN_UNITS = 256\n",
    "\n",
    "# Input\n",
    "inputs = Input(shape=(sequence_length, num_input_values))\n",
    "\n",
    "# Bi-LSTM\n",
    "lstm_out = Bidirectional(LSTM(HIDDEN_UNITS, return_sequences=True))(inputs)\n",
    "\n",
    "# Attention\n",
    "attention_mul = attention_block(lstm_out, sequence_length)\n",
    "attention_mul = Flatten()(attention_mul)\n",
    "\n",
    "# Fully Connected Layer\n",
    "x = Dense(2*HIDDEN_UNITS, activation='relu')(attention_mul)\n",
    "x = Dropout(0.5)(x)\n",
    "\n",
    "# Output\n",
    "x = Dense(actions.shape[0], activation='softmax')(x)\n",
    "\n",
    "# Bring it all together\n",
    "AttnLSTM = Model(inputs=[inputs], outputs=x)\n",
    "print(AttnLSTM.summary())"
   ]
  },
  {
   "cell_type": "code",
   "execution_count": 30,
   "id": "cf2f988d",
   "metadata": {},
   "outputs": [
    {
     "name": "stdout",
     "output_type": "stream",
     "text": [
      "Epoch 1/500\n",
      "1/1 [==============================] - 1s 882ms/step - loss: 1.0958 - categorical_accuracy: 0.3636 - val_loss: 1.1411 - val_categorical_accuracy: 0.0000e+00\n",
      "Epoch 2/500\n",
      "1/1 [==============================] - 0s 38ms/step - loss: 1.0713 - categorical_accuracy: 0.4545 - val_loss: 1.1709 - val_categorical_accuracy: 0.0000e+00\n",
      "Epoch 3/500\n",
      "1/1 [==============================] - 0s 52ms/step - loss: 1.0381 - categorical_accuracy: 0.4545 - val_loss: 1.1962 - val_categorical_accuracy: 0.0000e+00\n",
      "Epoch 4/500\n",
      "1/1 [==============================] - 0s 37ms/step - loss: 1.0290 - categorical_accuracy: 0.4545 - val_loss: 1.2151 - val_categorical_accuracy: 0.0000e+00\n",
      "Epoch 5/500\n",
      "1/1 [==============================] - 0s 33ms/step - loss: 0.9938 - categorical_accuracy: 0.4545 - val_loss: 1.2136 - val_categorical_accuracy: 0.0000e+00\n",
      "Epoch 6/500\n",
      "1/1 [==============================] - 0s 39ms/step - loss: 0.9501 - categorical_accuracy: 0.4545 - val_loss: 1.1853 - val_categorical_accuracy: 0.0000e+00\n",
      "Epoch 7/500\n",
      "1/1 [==============================] - 0s 33ms/step - loss: 0.9057 - categorical_accuracy: 0.4545 - val_loss: 1.1747 - val_categorical_accuracy: 0.0000e+00\n",
      "Epoch 8/500\n",
      "1/1 [==============================] - 0s 33ms/step - loss: 0.9093 - categorical_accuracy: 0.4545 - val_loss: 1.1588 - val_categorical_accuracy: 0.0000e+00\n",
      "Epoch 9/500\n",
      "1/1 [==============================] - 0s 32ms/step - loss: 0.8965 - categorical_accuracy: 0.4545 - val_loss: 1.1381 - val_categorical_accuracy: 0.0000e+00\n",
      "Epoch 10/500\n",
      "1/1 [==============================] - 0s 36ms/step - loss: 0.8691 - categorical_accuracy: 0.4545 - val_loss: 1.1158 - val_categorical_accuracy: 0.0000e+00\n",
      "Epoch 11/500\n",
      "1/1 [==============================] - 0s 33ms/step - loss: 0.8405 - categorical_accuracy: 0.4545 - val_loss: 1.0927 - val_categorical_accuracy: 0.0000e+00\n",
      "Epoch 12/500\n",
      "1/1 [==============================] - 0s 35ms/step - loss: 0.8641 - categorical_accuracy: 0.4545 - val_loss: 1.0691 - val_categorical_accuracy: 0.0000e+00\n",
      "Epoch 13/500\n",
      "1/1 [==============================] - 0s 33ms/step - loss: 0.8315 - categorical_accuracy: 0.4545 - val_loss: 1.0440 - val_categorical_accuracy: 0.0000e+00\n",
      "Epoch 14/500\n",
      "1/1 [==============================] - 0s 37ms/step - loss: 0.8085 - categorical_accuracy: 0.5455 - val_loss: 1.0172 - val_categorical_accuracy: 0.0000e+00\n",
      "Epoch 15/500\n",
      "1/1 [==============================] - 0s 32ms/step - loss: 0.7966 - categorical_accuracy: 0.6364 - val_loss: 0.9888 - val_categorical_accuracy: 0.0000e+00\n",
      "Epoch 16/500\n",
      "1/1 [==============================] - 0s 33ms/step - loss: 0.7857 - categorical_accuracy: 0.6364 - val_loss: 0.9582 - val_categorical_accuracy: 0.6667\n",
      "Epoch 17/500\n",
      "1/1 [==============================] - 0s 36ms/step - loss: 0.7792 - categorical_accuracy: 0.6364 - val_loss: 0.9242 - val_categorical_accuracy: 0.6667\n",
      "Epoch 18/500\n",
      "1/1 [==============================] - 0s 32ms/step - loss: 0.7434 - categorical_accuracy: 0.7273 - val_loss: 0.8873 - val_categorical_accuracy: 0.6667\n",
      "Epoch 19/500\n",
      "1/1 [==============================] - 0s 33ms/step - loss: 0.7481 - categorical_accuracy: 0.8182 - val_loss: 0.8527 - val_categorical_accuracy: 0.6667\n",
      "Epoch 20/500\n",
      "1/1 [==============================] - 0s 36ms/step - loss: 0.6955 - categorical_accuracy: 0.8182 - val_loss: 0.8185 - val_categorical_accuracy: 0.6667\n",
      "Epoch 21/500\n",
      "1/1 [==============================] - 0s 34ms/step - loss: 0.6577 - categorical_accuracy: 0.9091 - val_loss: 0.7883 - val_categorical_accuracy: 0.6667\n",
      "Epoch 22/500\n",
      "1/1 [==============================] - 0s 33ms/step - loss: 0.6396 - categorical_accuracy: 0.9091 - val_loss: 0.7582 - val_categorical_accuracy: 0.6667\n",
      "Epoch 23/500\n",
      "1/1 [==============================] - 0s 39ms/step - loss: 0.6394 - categorical_accuracy: 0.8182 - val_loss: 0.7277 - val_categorical_accuracy: 0.6667\n",
      "Epoch 24/500\n",
      "1/1 [==============================] - 0s 38ms/step - loss: 0.6023 - categorical_accuracy: 0.9091 - val_loss: 0.6980 - val_categorical_accuracy: 0.6667\n",
      "Epoch 25/500\n",
      "1/1 [==============================] - 0s 38ms/step - loss: 0.5804 - categorical_accuracy: 0.8182 - val_loss: 0.6694 - val_categorical_accuracy: 0.6667\n",
      "Epoch 26/500\n",
      "1/1 [==============================] - 0s 39ms/step - loss: 0.5491 - categorical_accuracy: 0.9091 - val_loss: 0.6389 - val_categorical_accuracy: 1.0000\n",
      "Epoch 27/500\n",
      "1/1 [==============================] - 0s 40ms/step - loss: 0.5395 - categorical_accuracy: 0.8182 - val_loss: 0.6086 - val_categorical_accuracy: 1.0000\n",
      "Epoch 28/500\n",
      "1/1 [==============================] - 0s 37ms/step - loss: 0.5083 - categorical_accuracy: 0.9091 - val_loss: 0.5760 - val_categorical_accuracy: 1.0000\n",
      "Epoch 29/500\n",
      "1/1 [==============================] - 0s 55ms/step - loss: 0.4792 - categorical_accuracy: 1.0000 - val_loss: 0.5395 - val_categorical_accuracy: 1.0000\n",
      "Epoch 30/500\n",
      "1/1 [==============================] - 0s 37ms/step - loss: 0.4526 - categorical_accuracy: 0.8182 - val_loss: 0.5051 - val_categorical_accuracy: 1.0000\n",
      "Epoch 31/500\n",
      "1/1 [==============================] - 0s 34ms/step - loss: 0.4192 - categorical_accuracy: 0.9091 - val_loss: 0.4687 - val_categorical_accuracy: 1.0000\n",
      "Epoch 32/500\n",
      "1/1 [==============================] - 0s 34ms/step - loss: 0.4184 - categorical_accuracy: 0.9091 - val_loss: 0.4309 - val_categorical_accuracy: 1.0000\n",
      "Epoch 33/500\n",
      "1/1 [==============================] - 0s 34ms/step - loss: 0.3548 - categorical_accuracy: 0.9091 - val_loss: 0.3959 - val_categorical_accuracy: 1.0000\n",
      "Epoch 34/500\n",
      "1/1 [==============================] - 0s 33ms/step - loss: 0.3309 - categorical_accuracy: 0.9091 - val_loss: 0.3644 - val_categorical_accuracy: 1.0000\n",
      "Epoch 35/500\n",
      "1/1 [==============================] - 0s 33ms/step - loss: 0.3315 - categorical_accuracy: 0.9091 - val_loss: 0.3377 - val_categorical_accuracy: 1.0000\n",
      "Epoch 36/500\n",
      "1/1 [==============================] - 0s 33ms/step - loss: 0.2820 - categorical_accuracy: 1.0000 - val_loss: 0.3144 - val_categorical_accuracy: 1.0000\n",
      "Epoch 37/500\n",
      "1/1 [==============================] - 0s 33ms/step - loss: 0.2784 - categorical_accuracy: 1.0000 - val_loss: 0.2891 - val_categorical_accuracy: 1.0000\n",
      "Epoch 38/500\n",
      "1/1 [==============================] - 0s 33ms/step - loss: 0.2468 - categorical_accuracy: 1.0000 - val_loss: 0.2656 - val_categorical_accuracy: 1.0000\n",
      "Epoch 39/500\n",
      "1/1 [==============================] - 0s 56ms/step - loss: 0.2183 - categorical_accuracy: 1.0000 - val_loss: 0.2419 - val_categorical_accuracy: 1.0000\n",
      "Epoch 40/500\n",
      "1/1 [==============================] - 0s 33ms/step - loss: 0.2170 - categorical_accuracy: 1.0000 - val_loss: 0.2183 - val_categorical_accuracy: 1.0000\n",
      "Epoch 41/500\n",
      "1/1 [==============================] - 0s 34ms/step - loss: 0.2024 - categorical_accuracy: 1.0000 - val_loss: 0.1964 - val_categorical_accuracy: 1.0000\n",
      "Epoch 42/500\n",
      "1/1 [==============================] - 0s 34ms/step - loss: 0.1915 - categorical_accuracy: 1.0000 - val_loss: 0.1764 - val_categorical_accuracy: 1.0000\n",
      "Epoch 43/500\n",
      "1/1 [==============================] - 0s 34ms/step - loss: 0.1490 - categorical_accuracy: 1.0000 - val_loss: 0.1586 - val_categorical_accuracy: 1.0000\n",
      "Epoch 44/500\n",
      "1/1 [==============================] - 0s 32ms/step - loss: 0.1314 - categorical_accuracy: 1.0000 - val_loss: 0.1430 - val_categorical_accuracy: 1.0000\n",
      "Epoch 45/500\n",
      "1/1 [==============================] - 0s 33ms/step - loss: 0.1263 - categorical_accuracy: 1.0000 - val_loss: 0.1311 - val_categorical_accuracy: 1.0000\n",
      "Epoch 46/500\n",
      "1/1 [==============================] - 0s 33ms/step - loss: 0.1174 - categorical_accuracy: 1.0000 - val_loss: 0.1215 - val_categorical_accuracy: 1.0000\n",
      "Epoch 47/500\n",
      "1/1 [==============================] - 0s 32ms/step - loss: 0.0958 - categorical_accuracy: 1.0000 - val_loss: 0.1138 - val_categorical_accuracy: 1.0000\n",
      "Epoch 48/500\n",
      "1/1 [==============================] - 0s 33ms/step - loss: 0.0968 - categorical_accuracy: 1.0000 - val_loss: 0.1073 - val_categorical_accuracy: 1.0000\n",
      "Epoch 49/500\n",
      "1/1 [==============================] - 0s 31ms/step - loss: 0.0937 - categorical_accuracy: 1.0000 - val_loss: 0.0982 - val_categorical_accuracy: 1.0000\n",
      "Epoch 50/500\n"
     ]
    },
    {
     "name": "stdout",
     "output_type": "stream",
     "text": [
      "1/1 [==============================] - 0s 36ms/step - loss: 0.0790 - categorical_accuracy: 1.0000 - val_loss: 0.0875 - val_categorical_accuracy: 1.0000\n",
      "Epoch 51/500\n",
      "1/1 [==============================] - 0s 39ms/step - loss: 0.0744 - categorical_accuracy: 1.0000 - val_loss: 0.0770 - val_categorical_accuracy: 1.0000\n",
      "Epoch 52/500\n",
      "1/1 [==============================] - 0s 35ms/step - loss: 0.0724 - categorical_accuracy: 1.0000 - val_loss: 0.0680 - val_categorical_accuracy: 1.0000\n",
      "Epoch 53/500\n",
      "1/1 [==============================] - 0s 32ms/step - loss: 0.0467 - categorical_accuracy: 1.0000 - val_loss: 0.0608 - val_categorical_accuracy: 1.0000\n",
      "Epoch 54/500\n",
      "1/1 [==============================] - 0s 31ms/step - loss: 0.0607 - categorical_accuracy: 1.0000 - val_loss: 0.0547 - val_categorical_accuracy: 1.0000\n",
      "Epoch 55/500\n",
      "1/1 [==============================] - 0s 34ms/step - loss: 0.0355 - categorical_accuracy: 1.0000 - val_loss: 0.0497 - val_categorical_accuracy: 1.0000\n",
      "Epoch 56/500\n",
      "1/1 [==============================] - 0s 33ms/step - loss: 0.0471 - categorical_accuracy: 1.0000 - val_loss: 0.0455 - val_categorical_accuracy: 1.0000\n",
      "Epoch 57/500\n",
      "1/1 [==============================] - 0s 36ms/step - loss: 0.0391 - categorical_accuracy: 1.0000 - val_loss: 0.0422 - val_categorical_accuracy: 1.0000\n",
      "Epoch 58/500\n",
      "1/1 [==============================] - 0s 34ms/step - loss: 0.0391 - categorical_accuracy: 1.0000 - val_loss: 0.0402 - val_categorical_accuracy: 1.0000\n",
      "Epoch 59/500\n",
      "1/1 [==============================] - 0s 36ms/step - loss: 0.0370 - categorical_accuracy: 1.0000 - val_loss: 0.0384 - val_categorical_accuracy: 1.0000\n",
      "Epoch 60/500\n",
      "1/1 [==============================] - 0s 32ms/step - loss: 0.0342 - categorical_accuracy: 1.0000 - val_loss: 0.0375 - val_categorical_accuracy: 1.0000\n",
      "Epoch 61/500\n",
      "1/1 [==============================] - 0s 31ms/step - loss: 0.0371 - categorical_accuracy: 1.0000 - val_loss: 0.0364 - val_categorical_accuracy: 1.0000\n",
      "Epoch 62/500\n",
      "1/1 [==============================] - 0s 35ms/step - loss: 0.0282 - categorical_accuracy: 1.0000 - val_loss: 0.0346 - val_categorical_accuracy: 1.0000\n",
      "Epoch 63/500\n",
      "1/1 [==============================] - 0s 35ms/step - loss: 0.0312 - categorical_accuracy: 1.0000 - val_loss: 0.0332 - val_categorical_accuracy: 1.0000\n",
      "Epoch 64/500\n",
      "1/1 [==============================] - 0s 32ms/step - loss: 0.0256 - categorical_accuracy: 1.0000 - val_loss: 0.0308 - val_categorical_accuracy: 1.0000\n",
      "Epoch 65/500\n",
      "1/1 [==============================] - 0s 31ms/step - loss: 0.0163 - categorical_accuracy: 1.0000 - val_loss: 0.0288 - val_categorical_accuracy: 1.0000\n",
      "Epoch 66/500\n",
      "1/1 [==============================] - 0s 33ms/step - loss: 0.0194 - categorical_accuracy: 1.0000 - val_loss: 0.0270 - val_categorical_accuracy: 1.0000\n",
      "Epoch 67/500\n",
      "1/1 [==============================] - 0s 36ms/step - loss: 0.0204 - categorical_accuracy: 1.0000 - val_loss: 0.0248 - val_categorical_accuracy: 1.0000\n",
      "Epoch 68/500\n",
      "1/1 [==============================] - 0s 37ms/step - loss: 0.0158 - categorical_accuracy: 1.0000 - val_loss: 0.0227 - val_categorical_accuracy: 1.0000\n",
      "Epoch 69/500\n",
      "1/1 [==============================] - 0s 35ms/step - loss: 0.0161 - categorical_accuracy: 1.0000 - val_loss: 0.0209 - val_categorical_accuracy: 1.0000\n",
      "Epoch 70/500\n",
      "1/1 [==============================] - 0s 36ms/step - loss: 0.0127 - categorical_accuracy: 1.0000 - val_loss: 0.0193 - val_categorical_accuracy: 1.0000\n",
      "Epoch 71/500\n",
      "1/1 [==============================] - 0s 33ms/step - loss: 0.0152 - categorical_accuracy: 1.0000 - val_loss: 0.0178 - val_categorical_accuracy: 1.0000\n",
      "Epoch 72/500\n",
      "1/1 [==============================] - 0s 34ms/step - loss: 0.0152 - categorical_accuracy: 1.0000 - val_loss: 0.0166 - val_categorical_accuracy: 1.0000\n",
      "Epoch 73/500\n",
      "1/1 [==============================] - 0s 36ms/step - loss: 0.0114 - categorical_accuracy: 1.0000 - val_loss: 0.0155 - val_categorical_accuracy: 1.0000\n",
      "Epoch 74/500\n",
      "1/1 [==============================] - 0s 35ms/step - loss: 0.0188 - categorical_accuracy: 1.0000 - val_loss: 0.0147 - val_categorical_accuracy: 1.0000\n",
      "Epoch 75/500\n",
      "1/1 [==============================] - 0s 33ms/step - loss: 0.0142 - categorical_accuracy: 1.0000 - val_loss: 0.0139 - val_categorical_accuracy: 1.0000\n",
      "Epoch 76/500\n",
      "1/1 [==============================] - 0s 33ms/step - loss: 0.0092 - categorical_accuracy: 1.0000 - val_loss: 0.0131 - val_categorical_accuracy: 1.0000\n",
      "Epoch 77/500\n",
      "1/1 [==============================] - 0s 39ms/step - loss: 0.0088 - categorical_accuracy: 1.0000 - val_loss: 0.0126 - val_categorical_accuracy: 1.0000\n",
      "Epoch 78/500\n",
      "1/1 [==============================] - 0s 32ms/step - loss: 0.0126 - categorical_accuracy: 1.0000 - val_loss: 0.0123 - val_categorical_accuracy: 1.0000\n",
      "Epoch 79/500\n",
      "1/1 [==============================] - 0s 43ms/step - loss: 0.0111 - categorical_accuracy: 1.0000 - val_loss: 0.0120 - val_categorical_accuracy: 1.0000\n",
      "Epoch 80/500\n",
      "1/1 [==============================] - 0s 36ms/step - loss: 0.0102 - categorical_accuracy: 1.0000 - val_loss: 0.0117 - val_categorical_accuracy: 1.0000\n",
      "Epoch 81/500\n",
      "1/1 [==============================] - 0s 37ms/step - loss: 0.0080 - categorical_accuracy: 1.0000 - val_loss: 0.0114 - val_categorical_accuracy: 1.0000\n",
      "Epoch 82/500\n",
      "1/1 [==============================] - 0s 41ms/step - loss: 0.0071 - categorical_accuracy: 1.0000 - val_loss: 0.0115 - val_categorical_accuracy: 1.0000\n",
      "Epoch 83/500\n",
      "1/1 [==============================] - 0s 36ms/step - loss: 0.0085 - categorical_accuracy: 1.0000 - val_loss: 0.0118 - val_categorical_accuracy: 1.0000\n",
      "Epoch 84/500\n",
      "1/1 [==============================] - 0s 54ms/step - loss: 0.0087 - categorical_accuracy: 1.0000 - val_loss: 0.0121 - val_categorical_accuracy: 1.0000\n",
      "Epoch 85/500\n",
      "1/1 [==============================] - 0s 39ms/step - loss: 0.0061 - categorical_accuracy: 1.0000 - val_loss: 0.0125 - val_categorical_accuracy: 1.0000\n",
      "Epoch 86/500\n",
      "1/1 [==============================] - 0s 36ms/step - loss: 0.0093 - categorical_accuracy: 1.0000 - val_loss: 0.0134 - val_categorical_accuracy: 1.0000\n",
      "Epoch 87/500\n",
      "1/1 [==============================] - 0s 57ms/step - loss: 0.0158 - categorical_accuracy: 1.0000 - val_loss: 0.0135 - val_categorical_accuracy: 1.0000\n",
      "Epoch 88/500\n",
      "1/1 [==============================] - 0s 33ms/step - loss: 0.0064 - categorical_accuracy: 1.0000 - val_loss: 0.0135 - val_categorical_accuracy: 1.0000\n",
      "Epoch 89/500\n",
      "1/1 [==============================] - 0s 34ms/step - loss: 0.0064 - categorical_accuracy: 1.0000 - val_loss: 0.0136 - val_categorical_accuracy: 1.0000\n",
      "Epoch 90/500\n",
      "1/1 [==============================] - 0s 36ms/step - loss: 0.0063 - categorical_accuracy: 1.0000 - val_loss: 0.0136 - val_categorical_accuracy: 1.0000\n",
      "Epoch 91/500\n",
      "1/1 [==============================] - 0s 54ms/step - loss: 0.0069 - categorical_accuracy: 1.0000 - val_loss: 0.0136 - val_categorical_accuracy: 1.0000\n"
     ]
    },
    {
     "data": {
      "text/plain": [
       "<tensorflow.python.keras.callbacks.History at 0x22c1a07f5e0>"
      ]
     },
     "execution_count": 30,
     "metadata": {},
     "output_type": "execute_result"
    }
   ],
   "source": [
    "AttnLSTM.compile(optimizer=opt, loss='categorical_crossentropy', metrics=['categorical_accuracy'])\n",
    "AttnLSTM.fit(X_train, y_train, batch_size=batch_size, epochs=max_epochs, validation_data=(X_val, y_val), callbacks=callbacks)"
   ]
  },
  {
   "cell_type": "code",
   "execution_count": 31,
   "id": "b89f67cf",
   "metadata": {},
   "outputs": [],
   "source": [
    "# Model map\n",
    "models = {\n",
    "    'LSTM': lstm, \n",
    "    'LSTM_Attention_128HUs': AttnLSTM, \n",
    "}"
   ]
  },
  {
   "cell_type": "markdown",
   "id": "a928f612",
   "metadata": {},
   "source": [
    "# 7a. Save Weights"
   ]
  },
  {
   "cell_type": "code",
   "execution_count": 32,
   "id": "0a7647ad",
   "metadata": {},
   "outputs": [],
   "source": [
    "for model_name, model in models.items():\n",
    "    save_dir = os.path.join(os.getcwd(), f\"{model_name}.h5\")\n",
    "    model.save(save_dir)"
   ]
  },
  {
   "cell_type": "markdown",
   "id": "13fecf26",
   "metadata": {},
   "source": [
    "# 7b. Load Weights"
   ]
  },
  {
   "cell_type": "code",
   "execution_count": 33,
   "id": "ed0114a6",
   "metadata": {},
   "outputs": [],
   "source": [
    "# Run model rebuild before doing this\n",
    "for model_name, model in models.items():\n",
    "    load_dir = os.path.join(os.getcwd(), f\"{model_name}.h5\")\n",
    "    model.load_weights(load_dir)"
   ]
  },
  {
   "cell_type": "markdown",
   "id": "1b7747c6",
   "metadata": {},
   "source": [
    "# 8. Make Predictions"
   ]
  },
  {
   "cell_type": "code",
   "execution_count": 34,
   "id": "2101a592",
   "metadata": {},
   "outputs": [],
   "source": [
    "for model in models.values():\n",
    "    res = model.predict(X_test, verbose=0)   "
   ]
  },
  {
   "cell_type": "markdown",
   "id": "6b36c98e",
   "metadata": {},
   "source": [
    "# 9. Evaluations using Confusion Matrix and Accuracy"
   ]
  },
  {
   "cell_type": "code",
   "execution_count": 35,
   "id": "ecf242d9",
   "metadata": {},
   "outputs": [],
   "source": [
    "eval_results = {}\n",
    "eval_results['confusion matrix'] = None\n",
    "eval_results['accuracy'] = None\n",
    "eval_results['precision'] = None\n",
    "eval_results['recall'] = None\n",
    "eval_results['f1 score'] = None\n",
    "\n",
    "confusion_matrices = {}\n",
    "classification_accuracies = {}   \n",
    "precisions = {}\n",
    "recalls = {}\n",
    "f1_scores = {} "
   ]
  },
  {
   "cell_type": "markdown",
   "id": "74d6778f",
   "metadata": {},
   "source": [
    "## 9a. Confusion Matrices"
   ]
  },
  {
   "cell_type": "code",
   "execution_count": 36,
   "id": "fccbb90f",
   "metadata": {},
   "outputs": [
    {
     "name": "stdout",
     "output_type": "stream",
     "text": [
      "LSTM confusion matrix: \r\n",
      "[[[1. 0.]\n",
      "  [1. 0.]]\n",
      "\n",
      " [[0. 2.]\n",
      "  [0. 0.]]\n",
      "\n",
      " [[1. 0.]\n",
      "  [1. 0.]]]\n",
      "LSTM_Attention_128HUs confusion matrix: \r\n",
      "[[[1 0]\n",
      "  [0 1]]\n",
      "\n",
      " [[1 0]\n",
      "  [0 1]]]\n"
     ]
    }
   ],
   "source": [
    "for model_name, model in models.items():\n",
    "    yhat = model.predict(X_test, verbose=0)\n",
    "    \n",
    "    # Get list of classification predictions\n",
    "    ytrue = np.argmax(y_test, axis=1).tolist()\n",
    "    yhat = np.argmax(yhat, axis=1).tolist()\n",
    "    \n",
    "    # Confusion matrix\n",
    "    confusion_matrices[model_name] = multilabel_confusion_matrix(ytrue, yhat)\n",
    "    print(f\"{model_name} confusion matrix: {os.linesep}{confusion_matrices[model_name]}\")\n",
    "\n",
    "# Collect results \n",
    "eval_results['confusion matrix'] = confusion_matrices"
   ]
  },
  {
   "cell_type": "markdown",
   "id": "b76c6dc5",
   "metadata": {},
   "source": [
    "## 9b. Accuracy"
   ]
  },
  {
   "cell_type": "code",
   "execution_count": 54,
   "id": "e36146f5",
   "metadata": {},
   "outputs": [
    {
     "name": "stdout",
     "output_type": "stream",
     "text": [
      "LSTM classification accuracy = 0.0%\n",
      "LSTM_Attention_128HUs classification accuracy = 100.0%\n"
     ]
    }
   ],
   "source": [
    "for model_name, model in models.items():\n",
    "    yhat = model.predict(X_test, verbose=0)\n",
    "    \n",
    "    # Get list of classification predictions\n",
    "    ytrue = np.argmax(y_test, axis=1).tolist()\n",
    "    yhat = np.argmax(yhat, axis=1).tolist()\n",
    "    \n",
    "    # Model accuracy\n",
    "    classification_accuracies[model_name] = accuracy_score(ytrue, yhat)    \n",
    "    print(f\"{model_name} classification accuracy = {round(classification_accuracies[model_name]*100,3)}%\")\n",
    "\n",
    "# Collect results \n",
    "eval_results['accuracy'] = classification_accuracies"
   ]
  },
  {
   "cell_type": "markdown",
   "id": "33efa73a",
   "metadata": {},
   "source": [
    "## 9c. Precision, Recall, and F1 Score"
   ]
  },
  {
   "cell_type": "code",
   "execution_count": 38,
   "id": "35067c48",
   "metadata": {},
   "outputs": [
    {
     "name": "stderr",
     "output_type": "stream",
     "text": [
      "C:\\Users\\Nihaal Raichura\\anaconda3\\envs\\NAME\\lib\\site-packages\\sklearn\\metrics\\_classification.py:1318: UndefinedMetricWarning: Precision and F-score are ill-defined and being set to 0.0 in labels with no predicted samples. Use `zero_division` parameter to control this behavior.\n",
      "  _warn_prf(average, modifier, msg_start, len(result))\n",
      "C:\\Users\\Nihaal Raichura\\anaconda3\\envs\\NAME\\lib\\site-packages\\sklearn\\metrics\\_classification.py:1318: UndefinedMetricWarning: Recall and F-score are ill-defined and being set to 0.0 in labels with no true samples. Use `zero_division` parameter to control this behavior.\n",
      "  _warn_prf(average, modifier, msg_start, len(result))\n",
      "C:\\Users\\Nihaal Raichura\\anaconda3\\envs\\NAME\\lib\\site-packages\\sklearn\\metrics\\_classification.py:1318: UndefinedMetricWarning: Precision and F-score are ill-defined and being set to 0.0 in labels with no predicted samples. Use `zero_division` parameter to control this behavior.\n",
      "  _warn_prf(average, modifier, msg_start, len(result))\n",
      "C:\\Users\\Nihaal Raichura\\anaconda3\\envs\\NAME\\lib\\site-packages\\sklearn\\metrics\\_classification.py:1318: UndefinedMetricWarning: Recall and F-score are ill-defined and being set to 0.0 in labels with no true samples. Use `zero_division` parameter to control this behavior.\n",
      "  _warn_prf(average, modifier, msg_start, len(result))\n",
      "C:\\Users\\Nihaal Raichura\\anaconda3\\envs\\NAME\\lib\\site-packages\\sklearn\\metrics\\_classification.py:1318: UndefinedMetricWarning: Precision and F-score are ill-defined and being set to 0.0 in labels with no predicted samples. Use `zero_division` parameter to control this behavior.\n",
      "  _warn_prf(average, modifier, msg_start, len(result))\n",
      "C:\\Users\\Nihaal Raichura\\anaconda3\\envs\\NAME\\lib\\site-packages\\sklearn\\metrics\\_classification.py:1318: UndefinedMetricWarning: Recall and F-score are ill-defined and being set to 0.0 in labels with no true samples. Use `zero_division` parameter to control this behavior.\n",
      "  _warn_prf(average, modifier, msg_start, len(result))\n"
     ]
    },
    {
     "name": "stdout",
     "output_type": "stream",
     "text": [
      "LSTM weighted average precision = 0.0\n",
      "LSTM weighted average recall = 0.0\n",
      "LSTM weighted average f1-score = 0.0\n",
      "\n"
     ]
    },
    {
     "ename": "ValueError",
     "evalue": "Number of classes, 2, does not match size of target_names, 3. Try specifying the labels parameter",
     "output_type": "error",
     "traceback": [
      "\u001b[1;31m---------------------------------------------------------------------------\u001b[0m",
      "\u001b[1;31mValueError\u001b[0m                                Traceback (most recent call last)",
      "Input \u001b[1;32mIn [38]\u001b[0m, in \u001b[0;36m<cell line: 1>\u001b[1;34m()\u001b[0m\n\u001b[0;32m      6\u001b[0m yhat \u001b[38;5;241m=\u001b[39m np\u001b[38;5;241m.\u001b[39margmax(yhat, axis\u001b[38;5;241m=\u001b[39m\u001b[38;5;241m1\u001b[39m)\u001b[38;5;241m.\u001b[39mtolist()\n\u001b[0;32m      8\u001b[0m \u001b[38;5;66;03m# Precision, recall, and f1 score\u001b[39;00m\n\u001b[1;32m----> 9\u001b[0m report \u001b[38;5;241m=\u001b[39m \u001b[43mclassification_report\u001b[49m\u001b[43m(\u001b[49m\u001b[43mytrue\u001b[49m\u001b[43m,\u001b[49m\u001b[43m \u001b[49m\u001b[43myhat\u001b[49m\u001b[43m,\u001b[49m\u001b[43m \u001b[49m\u001b[43mtarget_names\u001b[49m\u001b[38;5;241;43m=\u001b[39;49m\u001b[43mactions\u001b[49m\u001b[43m,\u001b[49m\u001b[43m \u001b[49m\u001b[43moutput_dict\u001b[49m\u001b[38;5;241;43m=\u001b[39;49m\u001b[38;5;28;43;01mTrue\u001b[39;49;00m\u001b[43m)\u001b[49m\n\u001b[0;32m     11\u001b[0m precisions[model_name] \u001b[38;5;241m=\u001b[39m report[\u001b[38;5;124m'\u001b[39m\u001b[38;5;124mweighted avg\u001b[39m\u001b[38;5;124m'\u001b[39m][\u001b[38;5;124m'\u001b[39m\u001b[38;5;124mprecision\u001b[39m\u001b[38;5;124m'\u001b[39m]\n\u001b[0;32m     12\u001b[0m recalls[model_name] \u001b[38;5;241m=\u001b[39m report[\u001b[38;5;124m'\u001b[39m\u001b[38;5;124mweighted avg\u001b[39m\u001b[38;5;124m'\u001b[39m][\u001b[38;5;124m'\u001b[39m\u001b[38;5;124mrecall\u001b[39m\u001b[38;5;124m'\u001b[39m]\n",
      "File \u001b[1;32m~\\anaconda3\\envs\\NAME\\lib\\site-packages\\sklearn\\metrics\\_classification.py:2132\u001b[0m, in \u001b[0;36mclassification_report\u001b[1;34m(y_true, y_pred, labels, target_names, sample_weight, digits, output_dict, zero_division)\u001b[0m\n\u001b[0;32m   2126\u001b[0m         warnings\u001b[38;5;241m.\u001b[39mwarn(\n\u001b[0;32m   2127\u001b[0m             \u001b[38;5;124m\"\u001b[39m\u001b[38;5;124mlabels size, \u001b[39m\u001b[38;5;132;01m{0}\u001b[39;00m\u001b[38;5;124m, does not match size of target_names, \u001b[39m\u001b[38;5;132;01m{1}\u001b[39;00m\u001b[38;5;124m\"\u001b[39m\u001b[38;5;241m.\u001b[39mformat(\n\u001b[0;32m   2128\u001b[0m                 \u001b[38;5;28mlen\u001b[39m(labels), \u001b[38;5;28mlen\u001b[39m(target_names)\n\u001b[0;32m   2129\u001b[0m             )\n\u001b[0;32m   2130\u001b[0m         )\n\u001b[0;32m   2131\u001b[0m     \u001b[38;5;28;01melse\u001b[39;00m:\n\u001b[1;32m-> 2132\u001b[0m         \u001b[38;5;28;01mraise\u001b[39;00m \u001b[38;5;167;01mValueError\u001b[39;00m(\n\u001b[0;32m   2133\u001b[0m             \u001b[38;5;124m\"\u001b[39m\u001b[38;5;124mNumber of classes, \u001b[39m\u001b[38;5;132;01m{0}\u001b[39;00m\u001b[38;5;124m, does not match size of \u001b[39m\u001b[38;5;124m\"\u001b[39m\n\u001b[0;32m   2134\u001b[0m             \u001b[38;5;124m\"\u001b[39m\u001b[38;5;124mtarget_names, \u001b[39m\u001b[38;5;132;01m{1}\u001b[39;00m\u001b[38;5;124m. Try specifying the labels \u001b[39m\u001b[38;5;124m\"\u001b[39m\n\u001b[0;32m   2135\u001b[0m             \u001b[38;5;124m\"\u001b[39m\u001b[38;5;124mparameter\u001b[39m\u001b[38;5;124m\"\u001b[39m\u001b[38;5;241m.\u001b[39mformat(\u001b[38;5;28mlen\u001b[39m(labels), \u001b[38;5;28mlen\u001b[39m(target_names))\n\u001b[0;32m   2136\u001b[0m         )\n\u001b[0;32m   2137\u001b[0m \u001b[38;5;28;01mif\u001b[39;00m target_names \u001b[38;5;129;01mis\u001b[39;00m \u001b[38;5;28;01mNone\u001b[39;00m:\n\u001b[0;32m   2138\u001b[0m     target_names \u001b[38;5;241m=\u001b[39m [\u001b[38;5;124m\"\u001b[39m\u001b[38;5;132;01m%s\u001b[39;00m\u001b[38;5;124m\"\u001b[39m \u001b[38;5;241m%\u001b[39m l \u001b[38;5;28;01mfor\u001b[39;00m l \u001b[38;5;129;01min\u001b[39;00m labels]\n",
      "\u001b[1;31mValueError\u001b[0m: Number of classes, 2, does not match size of target_names, 3. Try specifying the labels parameter"
     ]
    }
   ],
   "source": [
    "for model_name, model in models.items():\n",
    "    yhat = model.predict(X_test, verbose=0)\n",
    "    \n",
    "    # Get list of classification predictions\n",
    "    ytrue = np.argmax(y_test, axis=1).tolist()\n",
    "    yhat = np.argmax(yhat, axis=1).tolist()\n",
    "    \n",
    "    # Precision, recall, and f1 score\n",
    "    report = classification_report(ytrue, yhat, target_names=actions, output_dict=True)\n",
    "    \n",
    "    precisions[model_name] = report['weighted avg']['precision']\n",
    "    recalls[model_name] = report['weighted avg']['recall']\n",
    "    f1_scores[model_name] = report['weighted avg']['f1-score'] \n",
    "   \n",
    "    print(f\"{model_name} weighted average precision = {round(precisions[model_name],3)}\")\n",
    "    print(f\"{model_name} weighted average recall = {round(recalls[model_name],3)}\")\n",
    "    print(f\"{model_name} weighted average f1-score = {round(f1_scores[model_name],3)}\\n\")\n",
    "\n",
    "# Collect results \n",
    "eval_results['precision'] = precisions\n",
    "eval_results['recall'] = recalls\n",
    "eval_results['f1 score'] = f1_scores"
   ]
  },
  {
   "cell_type": "markdown",
   "id": "e5d39476",
   "metadata": {},
   "source": [
    "# 10. Choose Model to Test in Real Time"
   ]
  },
  {
   "cell_type": "code",
   "execution_count": 39,
   "id": "d72d0605",
   "metadata": {},
   "outputs": [],
   "source": [
    "model = AttnLSTM\n",
    "model_name = 'AttnLSTM'"
   ]
  },
  {
   "cell_type": "markdown",
   "id": "9f0015ce",
   "metadata": {},
   "source": [
    "# 11. Calculate Joint Angles & Count Reps"
   ]
  },
  {
   "cell_type": "code",
   "execution_count": 40,
   "id": "f172932f",
   "metadata": {},
   "outputs": [],
   "source": [
    "def calculate_angle(a,b,c):\n",
    "    \"\"\"\n",
    "    Computes 3D joint angle inferred by 3 keypoints and their relative positions to one another\n",
    "    \n",
    "    \"\"\"\n",
    "    a = np.array(a) # First\n",
    "    b = np.array(b) # Mid\n",
    "    c = np.array(c) # End\n",
    "    \n",
    "    radians = np.arctan2(c[1]-b[1], c[0]-b[0]) - np.arctan2(a[1]-b[1], a[0]-b[0])\n",
    "    angle = np.abs(radians*180.0/np.pi)\n",
    "    \n",
    "    if angle >180.0:\n",
    "        angle = 360-angle\n",
    "        \n",
    "    return angle "
   ]
  },
  {
   "cell_type": "code",
   "execution_count": 41,
   "id": "26f357fe",
   "metadata": {},
   "outputs": [],
   "source": [
    "def get_coordinates(landmarks, mp_pose, side, joint):\n",
    "    \"\"\"\n",
    "    Retrieves x and y coordinates of a particular keypoint from the pose estimation model\n",
    "         \n",
    "     Args:\n",
    "         landmarks: processed keypoints from the pose estimation model\n",
    "         mp_pose: Mediapipe pose estimation model\n",
    "         side: 'left' or 'right'. Denotes the side of the body of the landmark of interest.\n",
    "         joint: 'shoulder', 'elbow', 'wrist', 'hip', 'knee', or 'ankle'. Denotes which body joint is associated with the landmark of interest.\n",
    "    \n",
    "    \"\"\"\n",
    "    coord = getattr(mp_pose.PoseLandmark,side.upper()+\"_\"+joint.upper())\n",
    "    x_coord_val = landmarks[coord.value].x\n",
    "    y_coord_val = landmarks[coord.value].y\n",
    "    return [x_coord_val, y_coord_val]            "
   ]
  },
  {
   "cell_type": "code",
   "execution_count": 42,
   "id": "f11273cf",
   "metadata": {},
   "outputs": [],
   "source": [
    "def viz_joint_angle(image, angle, joint):\n",
    "    \"\"\"\n",
    "    Displays the joint angle value near the joint within the image frame\n",
    "    \n",
    "    \"\"\"\n",
    "    cv2.putText(image, str(int(angle)), \n",
    "                   tuple(np.multiply(joint, [640, 480]).astype(int)), \n",
    "                   cv2.FONT_HERSHEY_SIMPLEX, 0.5, (255, 255, 255), 2, cv2.LINE_AA\n",
    "                        )\n",
    "    return"
   ]
  },
  {
   "cell_type": "code",
   "execution_count": 43,
   "id": "b64050d3",
   "metadata": {},
   "outputs": [],
   "source": [
    "def count_reps(image, current_action, landmarks, mp_pose):\n",
    "    \"\"\"\n",
    "    Counts repetitions of each exercise. Global count and stage (i.e., state) variables are updated within this function.\n",
    "    \n",
    "    \"\"\"\n",
    "\n",
    "    global curl_counter, press_counter, squat_counter, curl_stage, press_stage, squat_stage\n",
    "    \n",
    "    if current_action == 'curl':\n",
    "        # Get coords\n",
    "        shoulder = get_coordinates(landmarks, mp_pose, 'left', 'shoulder')\n",
    "        elbow = get_coordinates(landmarks, mp_pose, 'left', 'elbow')\n",
    "        wrist = get_coordinates(landmarks, mp_pose, 'left', 'wrist')\n",
    "        \n",
    "        # calculate elbow angle\n",
    "        angle = calculate_angle(shoulder, elbow, wrist)\n",
    "        \n",
    "        # curl counter logic\n",
    "        if angle < 30:\n",
    "            curl_stage = \"up\" \n",
    "        if angle > 140 and curl_stage =='up':\n",
    "            curl_stage=\"down\"  \n",
    "            curl_counter +=1\n",
    "        press_stage = None\n",
    "        squat_stage = None\n",
    "            \n",
    "        # Viz joint angle\n",
    "        viz_joint_angle(image, angle, elbow)\n",
    "        \n",
    "    elif current_action == 'press':\n",
    "        \n",
    "        # Get coords\n",
    "        shoulder = get_coordinates(landmarks, mp_pose, 'left', 'shoulder')\n",
    "        elbow = get_coordinates(landmarks, mp_pose, 'left', 'elbow')\n",
    "        wrist = get_coordinates(landmarks, mp_pose, 'left', 'wrist')\n",
    "\n",
    "        # Calculate elbow angle\n",
    "        elbow_angle = calculate_angle(shoulder, elbow, wrist)\n",
    "        \n",
    "        # Compute distances between joints\n",
    "        shoulder2elbow_dist = abs(math.dist(shoulder,elbow))\n",
    "        shoulder2wrist_dist = abs(math.dist(shoulder,wrist))\n",
    "        \n",
    "        # Press counter logic\n",
    "        if (elbow_angle > 130) and (shoulder2elbow_dist < shoulder2wrist_dist):\n",
    "            press_stage = \"up\"\n",
    "        if (elbow_angle < 50) and (shoulder2elbow_dist > shoulder2wrist_dist) and (press_stage =='up'):\n",
    "            press_stage='down'\n",
    "            press_counter += 1\n",
    "        curl_stage = None\n",
    "        squat_stage = None\n",
    "            \n",
    "        # Viz joint angle\n",
    "        viz_joint_angle(image, elbow_angle, elbow)\n",
    "        \n",
    "    elif current_action == 'squat':\n",
    "        # Get coords\n",
    "        # left side\n",
    "        left_shoulder = get_coordinates(landmarks, mp_pose, 'left', 'shoulder')\n",
    "        left_hip = get_coordinates(landmarks, mp_pose, 'left', 'hip')\n",
    "        left_knee = get_coordinates(landmarks, mp_pose, 'left', 'knee')\n",
    "        left_ankle = get_coordinates(landmarks, mp_pose, 'left', 'ankle')\n",
    "        # right side\n",
    "        right_shoulder = get_coordinates(landmarks, mp_pose, 'right', 'shoulder')\n",
    "        right_hip = get_coordinates(landmarks, mp_pose, 'right', 'hip')\n",
    "        right_knee = get_coordinates(landmarks, mp_pose, 'right', 'knee')\n",
    "        right_ankle = get_coordinates(landmarks, mp_pose, 'right', 'ankle')\n",
    "        \n",
    "        # Calculate knee angles\n",
    "        left_knee_angle = calculate_angle(left_hip, left_knee, left_ankle)\n",
    "        right_knee_angle = calculate_angle(right_hip, right_knee, right_ankle)\n",
    "        \n",
    "        # Calculate hip angles\n",
    "        left_hip_angle = calculate_angle(left_shoulder, left_hip, left_knee)\n",
    "        right_hip_angle = calculate_angle(right_shoulder, right_hip, right_knee)\n",
    "        \n",
    "        # Squat counter logic\n",
    "        thr = 165\n",
    "        if (left_knee_angle < thr) and (right_knee_angle < thr) and (left_hip_angle < thr) and (right_hip_angle < thr):\n",
    "            squat_stage = \"down\"\n",
    "        if (left_knee_angle > thr) and (right_knee_angle > thr) and (left_hip_angle > thr) and (right_hip_angle > thr) and (squat_stage =='down'):\n",
    "            squat_stage='up'\n",
    "            squat_counter += 1\n",
    "        curl_stage = None\n",
    "        press_stage = None\n",
    "            \n",
    "        # Viz joint angles\n",
    "        viz_joint_angle(image, left_knee_angle, left_knee)\n",
    "        viz_joint_angle(image, left_hip_angle, left_hip)\n",
    "        \n",
    "    else:\n",
    "        pass"
   ]
  },
  {
   "cell_type": "markdown",
   "id": "a5116ef6",
   "metadata": {},
   "source": [
    "# 12. Test in Real Time"
   ]
  },
  {
   "cell_type": "code",
   "execution_count": 46,
   "id": "4775b75e",
   "metadata": {},
   "outputs": [],
   "source": [
    "def prob_viz(res, actions, input_frame, colors):\n",
    "    \"\"\"\n",
    "    This function displays the model prediction probability distribution over the set of exercise classes\n",
    "    as a horizontal bar graph\n",
    "    \n",
    "    \"\"\"\n",
    "    output_frame = input_frame.copy()\n",
    "    for num, prob in enumerate(res):        \n",
    "        cv2.rectangle(output_frame, (0,60+num*40), (int(prob*100), 90+num*40), colors[num], -1)\n",
    "        cv2.putText(output_frame, actions[num], (0, 85+num*40), cv2.FONT_HERSHEY_SIMPLEX, 1, (255,255,255), 2, cv2.LINE_AA)\n",
    "        \n",
    "    return output_frame"
   ]
  },
  {
   "cell_type": "code",
   "execution_count": 53,
   "id": "6332bf1a",
   "metadata": {},
   "outputs": [],
   "source": [
    "# 1. New detection variables\n",
    "sequence = []\n",
    "predictions = []\n",
    "res = []\n",
    "threshold = 0.5 # minimum confidence to classify as an action/exercise\n",
    "current_action = ''\n",
    "\n",
    "# Rep counter logic variables\n",
    "curl_counter = 0\n",
    "press_counter = 0\n",
    "squat_counter = 0\n",
    "curl_stage = None\n",
    "press_stage = None\n",
    "squat_stage = None\n",
    "\n",
    "# Camera object\n",
    "cap = cv2.VideoCapture(0)\n",
    "\n",
    "# Video writer object that saves a video of the real time test\n",
    "fourcc = cv2.VideoWriter_fourcc('M','J','P','G') # video compression format\n",
    "HEIGHT = int(cap.get(cv2.CAP_PROP_FRAME_HEIGHT)) # webcam video frame height\n",
    "WIDTH = int(cap.get(cv2.CAP_PROP_FRAME_WIDTH)) # webcam video frame width\n",
    "FPS = int(cap.get(cv2.CAP_PROP_FPS)) # webcam video fram rate \n",
    "\n",
    "video_name = os.path.join(os.getcwd(),f\"{model_name}_real_time_test.avi\")\n",
    "out = cv2.VideoWriter(video_name, cv2.VideoWriter_fourcc(*\"MJPG\"), FPS, (WIDTH,HEIGHT))\n",
    "\n",
    "# Set mediapipe model \n",
    "with mp_pose.Pose(min_detection_confidence=0.5, min_tracking_confidence=0.5) as pose:\n",
    "    while cap.isOpened():\n",
    "\n",
    "        # Read feed\n",
    "        ret, frame = cap.read()\n",
    "\n",
    "        # Make detection\n",
    "        image, results = mediapipe_detection(frame, pose)\n",
    "        \n",
    "        # Draw landmarks\n",
    "        draw_landmarks(image, results)\n",
    "        \n",
    "        # 2. Prediction logic\n",
    "        keypoints = extract_keypoints(results)        \n",
    "        sequence.append(keypoints)      \n",
    "        sequence = sequence[-sequence_length:]\n",
    "              \n",
    "        if len(sequence) == sequence_length:\n",
    "            res = model.predict(np.expand_dims(sequence, axis=0), verbose=0)[0]           \n",
    "            predictions.append(np.argmax(res))\n",
    "            current_action = actions[np.argmax(res)]\n",
    "            confidence = np.max(res)\n",
    "            \n",
    "        #3. Viz logic\n",
    "            # Erase current action variable if no probability is above threshold\n",
    "            if confidence < threshold:\n",
    "                current_action = ''\n",
    "\n",
    "            # Viz probabilities\n",
    "            image = prob_viz(res, actions, image, colors)\n",
    "            \n",
    "            # Count reps\n",
    "            try:\n",
    "                landmarks = results.pose_landmarks.landmark\n",
    "                count_reps(\n",
    "                    image, current_action, landmarks, mp_pose)\n",
    "            except:\n",
    "                pass\n",
    "\n",
    "            # Display graphical information\n",
    "            cv2.rectangle(image, (0,0), (640, 40), colors[np.argmax(res)], -1)\n",
    "            cv2.putText(image, 'curl ' + str(curl_counter), (3,30), \n",
    "                           cv2.FONT_HERSHEY_SIMPLEX, 1, (255, 255, 255), 2, cv2.LINE_AA)\n",
    "            cv2.putText(image, 'press ' + str(press_counter), (240,30), \n",
    "                           cv2.FONT_HERSHEY_SIMPLEX, 1, (255, 255, 255), 2, cv2.LINE_AA)\n",
    "            cv2.putText(image, 'squat ' + str(squat_counter), (490,30), \n",
    "                           cv2.FONT_HERSHEY_SIMPLEX, 1, (255, 255, 255), 2, cv2.LINE_AA)\n",
    "         \n",
    "        # Show to screen\n",
    "        cv2.imshow('OpenCV Feed', image)\n",
    "        \n",
    "        # Write to video file\n",
    "        if ret == True:\n",
    "            out.write(image)\n",
    "\n",
    "        # Break gracefully\n",
    "        if cv2.waitKey(10) & 0xFF == ord('q'):\n",
    "            break\n",
    "    cap.release()\n",
    "    out.release()\n",
    "    cv2.destroyAllWindows()"
   ]
  },
  {
   "cell_type": "code",
   "execution_count": 51,
   "id": "af9980a1",
   "metadata": {},
   "outputs": [],
   "source": [
    "cap.release()\n",
    "out.release()\n",
    "cv2.destroyAllWindows()"
   ]
  }
 ],
 "metadata": {
  "kernelspec": {
   "display_name": "Python 3 (ipykernel)",
   "language": "python",
   "name": "python3"
  },
  "language_info": {
   "codemirror_mode": {
    "name": "ipython",
    "version": 3
   },
   "file_extension": ".py",
   "mimetype": "text/x-python",
   "name": "python",
   "nbconvert_exporter": "python",
   "pygments_lexer": "ipython3",
   "version": "3.8.13"
  },
  "vscode": {
   "interpreter": {
    "hash": "80aa1d3f3a8cfb37a38c47373cc49a39149184c5fa770d709389b1b8782c1d85"
   }
  }
 },
 "nbformat": 4,
 "nbformat_minor": 5
}
